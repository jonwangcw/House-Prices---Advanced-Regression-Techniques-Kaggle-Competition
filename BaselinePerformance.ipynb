{
 "cells": [
  {
   "cell_type": "markdown",
   "id": "f774835a-78ec-43bf-946e-f18a9637d237",
   "metadata": {},
   "source": [
    "# Kaggle House Price Competition - Baseline Performance Testing\n",
    "\n",
    "This notebook tests the baseline performance of various models on the data with no feature engineering. The only exception is using LabelEncoder from sklearn to convert categorical data to numerical values that can be read by the model.\n",
    "\n",
    "## Models tried \n",
    "\n",
    "- Support Vector Regression\n",
    "- Random Forest\n",
    "- AdaBoost\n",
    "- XGBoost\n",
    "- Neural Network"
   ]
  },
  {
   "cell_type": "code",
   "execution_count": null,
   "id": "99fb7d0f-e75e-43c9-9e2c-fdb822b95d4f",
   "metadata": {},
   "outputs": [],
   "source": [
    "import pandas as pd\n",
    "import numpy as np\n",
    "from sklearn.preprocessing import StandardScaler\n",
    "from sklearn.model_selection import train_test_split\n",
    "from sklearn.svm import SVR\n",
    "from sklearn.ensemble import RandomForestRegressor, AdaBoostRegressor\n",
    "from xgboost import XGBRegressor\n",
    "from sklearn.neural_network import MLPRegressor\n",
    "from sklearn.metrics import mean_squared_error\n",
    "\n",
    "# Load data\n",
    "training_data = pd.read_csv('train.csv') \n",
    "\n",
    "# Print basics\n",
    "n_features = len(training_data.columns)\n",
    "print(f'Number of features: {n_features}')\n",
    "n_entries = training_data.shape[0]\n",
    "print(f'Number of data points: {n_entries}')\n",
    "\n",
    "# Map features with string datatype entries to integers\n",
    "# Identify columns with object data type\n",
    "object_columns = training_data.select_dtypes(include=['object']).columns\n",
    "\n",
    "# Map object entries to integers for each object column\n",
    "for col in object_columns:\n",
    "    training_data[col], _ = pd.factorize(training_data[col])\n",
    "\n",
    "# Training data with missing features deleted\n",
    "training_data_deleted = training_data.copy()\n",
    "training_data_deleted = training_data_deleted.drop(columns=['LotFrontage', 'MasVnrArea', 'GarageYrBlt'])\n",
    "\n",
    "# Fill missing training data with imputed values \n",
    "lf_mean = lf[lf < 250].mean() # Drop outlier around 300\n",
    "mva_med = mva.median()\n",
    "gyb_mean = gyb.mean()\n",
    "\n",
    "training_data_filled = training_data.copy()\n",
    "training_data_filled['LotFrontage'] = training_data_filled['LotFrontage'].fillna(lf_mean)\n",
    "training_data_filled['MasVnrArea'] = training_data_filled['MasVnrArea'].fillna(mva_med)\n",
    "training_data_filled['GarageYrBlt'] = training_data_filled['GarageYrBlt'].fillna(gyb_mean)"
   ]
  }
 ],
 "metadata": {
  "kernelspec": {
   "display_name": "Python 3 (ipykernel)",
   "language": "python",
   "name": "python3"
  },
  "language_info": {
   "codemirror_mode": {
    "name": "ipython",
    "version": 3
   },
   "file_extension": ".py",
   "mimetype": "text/x-python",
   "name": "python",
   "nbconvert_exporter": "python",
   "pygments_lexer": "ipython3",
   "version": "3.12.4"
  }
 },
 "nbformat": 4,
 "nbformat_minor": 5
}
